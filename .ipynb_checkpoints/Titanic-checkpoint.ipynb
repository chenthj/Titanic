{
 "cells": [
  {
   "cell_type": "markdown",
   "metadata": {},
   "source": [
    "# 项目背景"
   ]
  },
  {
   "cell_type": "markdown",
   "metadata": {},
   "source": [
    "1912年泰坦尼克号邮轮在其处女启航时触礁冰山而沉没，造成大部分乘客和船员死亡。而这个项目，我们将探讨泰坦尼克号上 2224 名乘客和船员中的891 名乘客的人口学数据和基本信息，以确定乘客的生还与哪些因素有关。 \n",
    "\n",
    "变量定义：\n",
    "PassengerId乘客序号；\n",
    "Survived生还 0=否，1=是；\n",
    "Pclass船舱等级 1 =高级，2 = 中级，3 = 普通；\n",
    "Name乘客姓名；\n",
    "Sex性别 Female=女性  Male=男性；\n",
    "Age年龄；\n",
    "Sibsp 0=未带兄弟姐妹/配偶  1=兄弟姐妹/配偶；\n",
    "Parch 0=未带父母/孩子      1=父母/孩子；\n",
    "Ticket船票号码；\n",
    "Fare票价；\n",
    "Cabin客舱客舱号码；\n",
    "Embarked登船港口 C=瑟堡，Q=皇后镇，S=南安普敦。"
   ]
  },
  {
   "cell_type": "markdown",
   "metadata": {},
   "source": [
    "# 问题"
   ]
  },
  {
   "cell_type": "markdown",
   "metadata": {},
   "source": [
    "探讨乘客生还率与Pclass、Sex、Age、SibSp、Parch、Fare、Cabin、Embarked的关系"
   ]
  },
  {
   "cell_type": "markdown",
   "metadata": {},
   "source": [
    "# 导入数据集"
   ]
  },
  {
   "cell_type": "code",
   "execution_count": 53,
   "metadata": {
    "collapsed": false
   },
   "outputs": [],
   "source": [
    "import pandas as pd\n",
    "import numpy as np\n",
    "%matplotlib inline\n",
    "import matplotlib.pyplot as plt\n",
    "import seaborn as sns\n",
    "titanic=pd.read_csv('titanic-data.csv')"
   ]
  },
  {
   "cell_type": "code",
   "execution_count": 54,
   "metadata": {
    "collapsed": false
   },
   "outputs": [
    {
     "data": {
      "text/html": [
       "<div>\n",
       "<table border=\"1\" class=\"dataframe\">\n",
       "  <thead>\n",
       "    <tr style=\"text-align: right;\">\n",
       "      <th></th>\n",
       "      <th>PassengerId</th>\n",
       "      <th>Survived</th>\n",
       "      <th>Pclass</th>\n",
       "      <th>Name</th>\n",
       "      <th>Sex</th>\n",
       "      <th>Age</th>\n",
       "      <th>SibSp</th>\n",
       "      <th>Parch</th>\n",
       "      <th>Ticket</th>\n",
       "      <th>Fare</th>\n",
       "      <th>Cabin</th>\n",
       "      <th>Embarked</th>\n",
       "    </tr>\n",
       "  </thead>\n",
       "  <tbody>\n",
       "    <tr>\n",
       "      <th>0</th>\n",
       "      <td>1</td>\n",
       "      <td>0</td>\n",
       "      <td>3</td>\n",
       "      <td>Braund, Mr. Owen Harris</td>\n",
       "      <td>male</td>\n",
       "      <td>22.0</td>\n",
       "      <td>1</td>\n",
       "      <td>0</td>\n",
       "      <td>A/5 21171</td>\n",
       "      <td>7.2500</td>\n",
       "      <td>NaN</td>\n",
       "      <td>S</td>\n",
       "    </tr>\n",
       "    <tr>\n",
       "      <th>1</th>\n",
       "      <td>2</td>\n",
       "      <td>1</td>\n",
       "      <td>1</td>\n",
       "      <td>Cumings, Mrs. John Bradley (Florence Briggs Th...</td>\n",
       "      <td>female</td>\n",
       "      <td>38.0</td>\n",
       "      <td>1</td>\n",
       "      <td>0</td>\n",
       "      <td>PC 17599</td>\n",
       "      <td>71.2833</td>\n",
       "      <td>C85</td>\n",
       "      <td>C</td>\n",
       "    </tr>\n",
       "    <tr>\n",
       "      <th>2</th>\n",
       "      <td>3</td>\n",
       "      <td>1</td>\n",
       "      <td>3</td>\n",
       "      <td>Heikkinen, Miss. Laina</td>\n",
       "      <td>female</td>\n",
       "      <td>26.0</td>\n",
       "      <td>0</td>\n",
       "      <td>0</td>\n",
       "      <td>STON/O2. 3101282</td>\n",
       "      <td>7.9250</td>\n",
       "      <td>NaN</td>\n",
       "      <td>S</td>\n",
       "    </tr>\n",
       "    <tr>\n",
       "      <th>3</th>\n",
       "      <td>4</td>\n",
       "      <td>1</td>\n",
       "      <td>1</td>\n",
       "      <td>Futrelle, Mrs. Jacques Heath (Lily May Peel)</td>\n",
       "      <td>female</td>\n",
       "      <td>35.0</td>\n",
       "      <td>1</td>\n",
       "      <td>0</td>\n",
       "      <td>113803</td>\n",
       "      <td>53.1000</td>\n",
       "      <td>C123</td>\n",
       "      <td>S</td>\n",
       "    </tr>\n",
       "    <tr>\n",
       "      <th>4</th>\n",
       "      <td>5</td>\n",
       "      <td>0</td>\n",
       "      <td>3</td>\n",
       "      <td>Allen, Mr. William Henry</td>\n",
       "      <td>male</td>\n",
       "      <td>35.0</td>\n",
       "      <td>0</td>\n",
       "      <td>0</td>\n",
       "      <td>373450</td>\n",
       "      <td>8.0500</td>\n",
       "      <td>NaN</td>\n",
       "      <td>S</td>\n",
       "    </tr>\n",
       "  </tbody>\n",
       "</table>\n",
       "</div>"
      ],
      "text/plain": [
       "   PassengerId  Survived  Pclass  \\\n",
       "0            1         0       3   \n",
       "1            2         1       1   \n",
       "2            3         1       3   \n",
       "3            4         1       1   \n",
       "4            5         0       3   \n",
       "\n",
       "                                                Name     Sex   Age  SibSp  \\\n",
       "0                            Braund, Mr. Owen Harris    male  22.0      1   \n",
       "1  Cumings, Mrs. John Bradley (Florence Briggs Th...  female  38.0      1   \n",
       "2                             Heikkinen, Miss. Laina  female  26.0      0   \n",
       "3       Futrelle, Mrs. Jacques Heath (Lily May Peel)  female  35.0      1   \n",
       "4                           Allen, Mr. William Henry    male  35.0      0   \n",
       "\n",
       "   Parch            Ticket     Fare Cabin Embarked  \n",
       "0      0         A/5 21171   7.2500   NaN        S  \n",
       "1      0          PC 17599  71.2833   C85        C  \n",
       "2      0  STON/O2. 3101282   7.9250   NaN        S  \n",
       "3      0            113803  53.1000  C123        S  \n",
       "4      0            373450   8.0500   NaN        S  "
      ]
     },
     "execution_count": 54,
     "metadata": {},
     "output_type": "execute_result"
    }
   ],
   "source": [
    "#加载数据前5行\n",
    "titanic.head(5)"
   ]
  },
  {
   "cell_type": "code",
   "execution_count": 55,
   "metadata": {
    "collapsed": false
   },
   "outputs": [
    {
     "data": {
      "text/plain": [
       "False    891\n",
       "dtype: int64"
      ]
     },
     "execution_count": 55,
     "metadata": {},
     "output_type": "execute_result"
    }
   ],
   "source": [
    "#数据集有没有重复数据\n",
    "titanic.duplicated().value_counts()"
   ]
  },
  {
   "cell_type": "markdown",
   "metadata": {},
   "source": [
    "可以看出数据集没有重复数据"
   ]
  },
  {
   "cell_type": "code",
   "execution_count": 56,
   "metadata": {
    "collapsed": false
   },
   "outputs": [
    {
     "data": {
      "text/html": [
       "<div>\n",
       "<table border=\"1\" class=\"dataframe\">\n",
       "  <thead>\n",
       "    <tr style=\"text-align: right;\">\n",
       "      <th></th>\n",
       "      <th>PassengerId</th>\n",
       "      <th>Survived</th>\n",
       "      <th>Pclass</th>\n",
       "      <th>Age</th>\n",
       "      <th>SibSp</th>\n",
       "      <th>Parch</th>\n",
       "      <th>Fare</th>\n",
       "    </tr>\n",
       "  </thead>\n",
       "  <tbody>\n",
       "    <tr>\n",
       "      <th>count</th>\n",
       "      <td>891.000000</td>\n",
       "      <td>891.000000</td>\n",
       "      <td>891.000000</td>\n",
       "      <td>714.000000</td>\n",
       "      <td>891.000000</td>\n",
       "      <td>891.000000</td>\n",
       "      <td>891.000000</td>\n",
       "    </tr>\n",
       "    <tr>\n",
       "      <th>mean</th>\n",
       "      <td>446.000000</td>\n",
       "      <td>0.383838</td>\n",
       "      <td>2.308642</td>\n",
       "      <td>29.699118</td>\n",
       "      <td>0.523008</td>\n",
       "      <td>0.381594</td>\n",
       "      <td>32.204208</td>\n",
       "    </tr>\n",
       "    <tr>\n",
       "      <th>std</th>\n",
       "      <td>257.353842</td>\n",
       "      <td>0.486592</td>\n",
       "      <td>0.836071</td>\n",
       "      <td>14.526497</td>\n",
       "      <td>1.102743</td>\n",
       "      <td>0.806057</td>\n",
       "      <td>49.693429</td>\n",
       "    </tr>\n",
       "    <tr>\n",
       "      <th>min</th>\n",
       "      <td>1.000000</td>\n",
       "      <td>0.000000</td>\n",
       "      <td>1.000000</td>\n",
       "      <td>0.420000</td>\n",
       "      <td>0.000000</td>\n",
       "      <td>0.000000</td>\n",
       "      <td>0.000000</td>\n",
       "    </tr>\n",
       "    <tr>\n",
       "      <th>25%</th>\n",
       "      <td>223.500000</td>\n",
       "      <td>0.000000</td>\n",
       "      <td>2.000000</td>\n",
       "      <td>20.125000</td>\n",
       "      <td>0.000000</td>\n",
       "      <td>0.000000</td>\n",
       "      <td>7.910400</td>\n",
       "    </tr>\n",
       "    <tr>\n",
       "      <th>50%</th>\n",
       "      <td>446.000000</td>\n",
       "      <td>0.000000</td>\n",
       "      <td>3.000000</td>\n",
       "      <td>28.000000</td>\n",
       "      <td>0.000000</td>\n",
       "      <td>0.000000</td>\n",
       "      <td>14.454200</td>\n",
       "    </tr>\n",
       "    <tr>\n",
       "      <th>75%</th>\n",
       "      <td>668.500000</td>\n",
       "      <td>1.000000</td>\n",
       "      <td>3.000000</td>\n",
       "      <td>38.000000</td>\n",
       "      <td>1.000000</td>\n",
       "      <td>0.000000</td>\n",
       "      <td>31.000000</td>\n",
       "    </tr>\n",
       "    <tr>\n",
       "      <th>max</th>\n",
       "      <td>891.000000</td>\n",
       "      <td>1.000000</td>\n",
       "      <td>3.000000</td>\n",
       "      <td>80.000000</td>\n",
       "      <td>8.000000</td>\n",
       "      <td>6.000000</td>\n",
       "      <td>512.329200</td>\n",
       "    </tr>\n",
       "  </tbody>\n",
       "</table>\n",
       "</div>"
      ],
      "text/plain": [
       "       PassengerId    Survived      Pclass         Age       SibSp  \\\n",
       "count   891.000000  891.000000  891.000000  714.000000  891.000000   \n",
       "mean    446.000000    0.383838    2.308642   29.699118    0.523008   \n",
       "std     257.353842    0.486592    0.836071   14.526497    1.102743   \n",
       "min       1.000000    0.000000    1.000000    0.420000    0.000000   \n",
       "25%     223.500000    0.000000    2.000000   20.125000    0.000000   \n",
       "50%     446.000000    0.000000    3.000000   28.000000    0.000000   \n",
       "75%     668.500000    1.000000    3.000000   38.000000    1.000000   \n",
       "max     891.000000    1.000000    3.000000   80.000000    8.000000   \n",
       "\n",
       "            Parch        Fare  \n",
       "count  891.000000  891.000000  \n",
       "mean     0.381594   32.204208  \n",
       "std      0.806057   49.693429  \n",
       "min      0.000000    0.000000  \n",
       "25%      0.000000    7.910400  \n",
       "50%      0.000000   14.454200  \n",
       "75%      0.000000   31.000000  \n",
       "max      6.000000  512.329200  "
      ]
     },
     "execution_count": 56,
     "metadata": {},
     "output_type": "execute_result"
    }
   ],
   "source": [
    "#描述性分析\n",
    "titanic.describe()"
   ]
  },
  {
   "cell_type": "markdown",
   "metadata": {},
   "source": [
    "上表可以看出891名乘客整体幸存率只为38.4%，在这891名乘客中最大年龄为80岁，最小年龄不到一岁，平均年龄达到30岁。 随行人员中，多至8个兄弟姐妹及配偶一起出行，少至一人，但整体的平均率只在0.5个；父母孩子的携带数也多至6人，少的就是独自一人，但整体的平均率也只在0.4个左右。 乘客这趟旅行平均花费为32美元，最高花费可达512美元"
   ]
  },
  {
   "cell_type": "code",
   "execution_count": 57,
   "metadata": {
    "collapsed": false,
    "scrolled": true
   },
   "outputs": [
    {
     "name": "stdout",
     "output_type": "stream",
     "text": [
      "<class 'pandas.core.frame.DataFrame'>\n",
      "RangeIndex: 891 entries, 0 to 890\n",
      "Data columns (total 12 columns):\n",
      "PassengerId    891 non-null int64\n",
      "Survived       891 non-null int64\n",
      "Pclass         891 non-null int64\n",
      "Name           891 non-null object\n",
      "Sex            891 non-null object\n",
      "Age            714 non-null float64\n",
      "SibSp          891 non-null int64\n",
      "Parch          891 non-null int64\n",
      "Ticket         891 non-null object\n",
      "Fare           891 non-null float64\n",
      "Cabin          204 non-null object\n",
      "Embarked       889 non-null object\n",
      "dtypes: float64(2), int64(5), object(5)\n",
      "memory usage: 66.2+ KB\n"
     ]
    }
   ],
   "source": [
    "#数据集信息及缺失值情况\n",
    "titanic.info()"
   ]
  },
  {
   "cell_type": "markdown",
   "metadata": {},
   "source": [
    "可以看出Age、Cabin、Embarked列有缺失值,后面将要进行缺失值处理"
   ]
  },
  {
   "cell_type": "markdown",
   "metadata": {},
   "source": [
    "# 数据清理"
   ]
  },
  {
   "cell_type": "code",
   "execution_count": 58,
   "metadata": {
    "collapsed": false
   },
   "outputs": [],
   "source": [
    "#删除无用的数据\n",
    "titanic_df=titanic.drop(['PassengerId','Ticket','Name'],axis='columns')"
   ]
  },
  {
   "cell_type": "code",
   "execution_count": 59,
   "metadata": {
    "collapsed": false
   },
   "outputs": [
    {
     "data": {
      "text/html": [
       "<div>\n",
       "<table border=\"1\" class=\"dataframe\">\n",
       "  <thead>\n",
       "    <tr style=\"text-align: right;\">\n",
       "      <th></th>\n",
       "      <th>Survived</th>\n",
       "      <th>Pclass</th>\n",
       "      <th>Sex</th>\n",
       "      <th>Age</th>\n",
       "      <th>SibSp</th>\n",
       "      <th>Parch</th>\n",
       "      <th>Fare</th>\n",
       "      <th>Cabin</th>\n",
       "      <th>Embarked</th>\n",
       "    </tr>\n",
       "  </thead>\n",
       "  <tbody>\n",
       "    <tr>\n",
       "      <th>0</th>\n",
       "      <td>0</td>\n",
       "      <td>3</td>\n",
       "      <td>male</td>\n",
       "      <td>22.0</td>\n",
       "      <td>1</td>\n",
       "      <td>0</td>\n",
       "      <td>7.2500</td>\n",
       "      <td>NaN</td>\n",
       "      <td>S</td>\n",
       "    </tr>\n",
       "    <tr>\n",
       "      <th>1</th>\n",
       "      <td>1</td>\n",
       "      <td>1</td>\n",
       "      <td>female</td>\n",
       "      <td>38.0</td>\n",
       "      <td>1</td>\n",
       "      <td>0</td>\n",
       "      <td>71.2833</td>\n",
       "      <td>C85</td>\n",
       "      <td>C</td>\n",
       "    </tr>\n",
       "    <tr>\n",
       "      <th>2</th>\n",
       "      <td>1</td>\n",
       "      <td>3</td>\n",
       "      <td>female</td>\n",
       "      <td>26.0</td>\n",
       "      <td>0</td>\n",
       "      <td>0</td>\n",
       "      <td>7.9250</td>\n",
       "      <td>NaN</td>\n",
       "      <td>S</td>\n",
       "    </tr>\n",
       "    <tr>\n",
       "      <th>3</th>\n",
       "      <td>1</td>\n",
       "      <td>1</td>\n",
       "      <td>female</td>\n",
       "      <td>35.0</td>\n",
       "      <td>1</td>\n",
       "      <td>0</td>\n",
       "      <td>53.1000</td>\n",
       "      <td>C123</td>\n",
       "      <td>S</td>\n",
       "    </tr>\n",
       "    <tr>\n",
       "      <th>4</th>\n",
       "      <td>0</td>\n",
       "      <td>3</td>\n",
       "      <td>male</td>\n",
       "      <td>35.0</td>\n",
       "      <td>0</td>\n",
       "      <td>0</td>\n",
       "      <td>8.0500</td>\n",
       "      <td>NaN</td>\n",
       "      <td>S</td>\n",
       "    </tr>\n",
       "  </tbody>\n",
       "</table>\n",
       "</div>"
      ],
      "text/plain": [
       "   Survived  Pclass     Sex   Age  SibSp  Parch     Fare Cabin Embarked\n",
       "0         0       3    male  22.0      1      0   7.2500   NaN        S\n",
       "1         1       1  female  38.0      1      0  71.2833   C85        C\n",
       "2         1       3  female  26.0      0      0   7.9250   NaN        S\n",
       "3         1       1  female  35.0      1      0  53.1000  C123        S\n",
       "4         0       3    male  35.0      0      0   8.0500   NaN        S"
      ]
     },
     "execution_count": 59,
     "metadata": {},
     "output_type": "execute_result"
    }
   ],
   "source": [
    "#加载删除无用数据后的数据集\n",
    "titanic_df.head()"
   ]
  },
  {
   "cell_type": "code",
   "execution_count": 60,
   "metadata": {
    "collapsed": false
   },
   "outputs": [
    {
     "name": "stdout",
     "output_type": "stream",
     "text": [
      "0    S\n",
      "dtype: object\n"
     ]
    }
   ],
   "source": [
    "#缺失值处理\n",
    "titanic_df['Age']=titanic_df['Age'].fillna(titanic_df['Age'].mean()) #Age缺失值用平均值填补\n",
    "print titanic_df['Embarked'].mode()   #众数可能有多个，故先求得众数\n",
    "titanic_df['Embarked']=titanic_df['Embarked'].fillna(titanic_df['Embarked'].mode())   #Embarked缺失值用众数填补"
   ]
  },
  {
   "cell_type": "markdown",
   "metadata": {},
   "source": [
    "Cabin缺失值太多，分析没有太多意义，故后面不对这列进行分析"
   ]
  },
  {
   "cell_type": "code",
   "execution_count": 61,
   "metadata": {
    "collapsed": false
   },
   "outputs": [
    {
     "data": {
      "text/html": [
       "<div>\n",
       "<table border=\"1\" class=\"dataframe\">\n",
       "  <thead>\n",
       "    <tr style=\"text-align: right;\">\n",
       "      <th></th>\n",
       "      <th>Survived</th>\n",
       "      <th>Pclass</th>\n",
       "      <th>Age</th>\n",
       "      <th>SibSp</th>\n",
       "      <th>Parch</th>\n",
       "      <th>Fare</th>\n",
       "    </tr>\n",
       "  </thead>\n",
       "  <tbody>\n",
       "    <tr>\n",
       "      <th>count</th>\n",
       "      <td>891.000000</td>\n",
       "      <td>891.000000</td>\n",
       "      <td>891.000000</td>\n",
       "      <td>891.000000</td>\n",
       "      <td>891.000000</td>\n",
       "      <td>891.000000</td>\n",
       "    </tr>\n",
       "    <tr>\n",
       "      <th>mean</th>\n",
       "      <td>0.383838</td>\n",
       "      <td>2.308642</td>\n",
       "      <td>29.699118</td>\n",
       "      <td>0.523008</td>\n",
       "      <td>0.381594</td>\n",
       "      <td>32.204208</td>\n",
       "    </tr>\n",
       "    <tr>\n",
       "      <th>std</th>\n",
       "      <td>0.486592</td>\n",
       "      <td>0.836071</td>\n",
       "      <td>13.002015</td>\n",
       "      <td>1.102743</td>\n",
       "      <td>0.806057</td>\n",
       "      <td>49.693429</td>\n",
       "    </tr>\n",
       "    <tr>\n",
       "      <th>min</th>\n",
       "      <td>0.000000</td>\n",
       "      <td>1.000000</td>\n",
       "      <td>0.420000</td>\n",
       "      <td>0.000000</td>\n",
       "      <td>0.000000</td>\n",
       "      <td>0.000000</td>\n",
       "    </tr>\n",
       "    <tr>\n",
       "      <th>25%</th>\n",
       "      <td>0.000000</td>\n",
       "      <td>2.000000</td>\n",
       "      <td>22.000000</td>\n",
       "      <td>0.000000</td>\n",
       "      <td>0.000000</td>\n",
       "      <td>7.910400</td>\n",
       "    </tr>\n",
       "    <tr>\n",
       "      <th>50%</th>\n",
       "      <td>0.000000</td>\n",
       "      <td>3.000000</td>\n",
       "      <td>29.699118</td>\n",
       "      <td>0.000000</td>\n",
       "      <td>0.000000</td>\n",
       "      <td>14.454200</td>\n",
       "    </tr>\n",
       "    <tr>\n",
       "      <th>75%</th>\n",
       "      <td>1.000000</td>\n",
       "      <td>3.000000</td>\n",
       "      <td>35.000000</td>\n",
       "      <td>1.000000</td>\n",
       "      <td>0.000000</td>\n",
       "      <td>31.000000</td>\n",
       "    </tr>\n",
       "    <tr>\n",
       "      <th>max</th>\n",
       "      <td>1.000000</td>\n",
       "      <td>3.000000</td>\n",
       "      <td>80.000000</td>\n",
       "      <td>8.000000</td>\n",
       "      <td>6.000000</td>\n",
       "      <td>512.329200</td>\n",
       "    </tr>\n",
       "  </tbody>\n",
       "</table>\n",
       "</div>"
      ],
      "text/plain": [
       "         Survived      Pclass         Age       SibSp       Parch        Fare\n",
       "count  891.000000  891.000000  891.000000  891.000000  891.000000  891.000000\n",
       "mean     0.383838    2.308642   29.699118    0.523008    0.381594   32.204208\n",
       "std      0.486592    0.836071   13.002015    1.102743    0.806057   49.693429\n",
       "min      0.000000    1.000000    0.420000    0.000000    0.000000    0.000000\n",
       "25%      0.000000    2.000000   22.000000    0.000000    0.000000    7.910400\n",
       "50%      0.000000    3.000000   29.699118    0.000000    0.000000   14.454200\n",
       "75%      1.000000    3.000000   35.000000    1.000000    0.000000   31.000000\n",
       "max      1.000000    3.000000   80.000000    8.000000    6.000000  512.329200"
      ]
     },
     "execution_count": 61,
     "metadata": {},
     "output_type": "execute_result"
    }
   ],
   "source": [
    "#缺失值处理后的描述性分析\n",
    "titanic_df.describe()"
   ]
  },
  {
   "cell_type": "markdown",
   "metadata": {},
   "source": [
    "# 数据分析"
   ]
  },
  {
   "cell_type": "markdown",
   "metadata": {},
   "source": [
    "## Survived"
   ]
  },
  {
   "cell_type": "code",
   "execution_count": 62,
   "metadata": {
    "collapsed": false
   },
   "outputs": [
    {
     "data": {
      "text/plain": [
       "<matplotlib.text.Text at 0xc850970>"
      ]
     },
     "execution_count": 62,
     "metadata": {},
     "output_type": "execute_result"
    },
    {
     "data": {
      "image/png": "[encoded data removed]",
      "text/plain": [
       "<matplotlib.figure.Figure at 0xc6b34f0>"
      ]
     },
     "metadata": {},
     "output_type": "display_data"
    }
   ],
   "source": [
    "plt.subplot(1,2,1)\n",
    "sns.countplot(x='Survived',data=titanic_df)\n",
    "plt.title('Survival Counts')\n",
    "\n",
    "plt.subplot(1,2,2)\n",
    "plt.pie(titanic_df.groupby('Survived')['Survived'].count(),labels=['Not Survived','Survived'],autopct='%1.0f%%')\n",
    "plt.axis('equal')\n",
    "plt.title('Survival Rate')"
   ]
  },
  {
   "cell_type": "markdown",
   "metadata": {},
   "source": [
    "891名乘客中，只有38%的人生还，62%的人未能生还，下面就进一步探讨生还率可能与哪些因素有关"
   ]
  },
  {
   "cell_type": "markdown",
   "metadata": {},
   "source": [
    "### 1.Pclass变量"
   ]
  },
  {
   "cell_type": "code",
   "execution_count": 63,
   "metadata": {
    "collapsed": false
   },
   "outputs": [
    {
     "data": {
      "text/plain": [
       "<matplotlib.text.Text at 0xcd2bf50>"
      ]
     },
     "execution_count": 63,
     "metadata": {},
     "output_type": "execute_result"
    },
    {
     "data": {
      "image/png": "[encoded data removed]",
      "text/plain": [
       "<matplotlib.figure.Figure at 0xc93cdb0>"
      ]
     },
     "metadata": {},
     "output_type": "display_data"
    },
    {
     "data": {
      "image/png": "[encoded data removed]",
      "text/plain": [
       "<matplotlib.figure.Figure at 0xcd2b190>"
      ]
     },
     "metadata": {},
     "output_type": "display_data"
    }
   ],
   "source": [
    "#各舱级的生还率\n",
    "plt.figure(figsize=(10,3))\n",
    "plt.subplot(1,3,1)\n",
    "pclass_1_df=titanic_df[titanic_df['Pclass']==1]\n",
    "pclass_2_df=titanic_df[titanic_df['Pclass']==2]\n",
    "pclass_3_df=titanic_df[titanic_df['Pclass']==3]\n",
    "plt.pie([pclass_1_df[pclass_1_df['Survived']==0]['Survived'].count(),pclass_1_df[pclass_1_df['Survived']==1]['Survived'].count()],\\\n",
    "        labels=['Not Survived','Survived'],autopct='%1.0f%%')\n",
    "plt.title('Survival Rate to Pclass 1')\n",
    "plt.axis('equal')\n",
    "\n",
    "plt.subplot(1,3,2)\n",
    "plt.pie([pclass_2_df[pclass_2_df['Survived']==0]['Survived'].count(),pclass_2_df[pclass_2_df['Survived']==1]['Survived'].count()],\\\n",
    "        labels=['Not Survived','Survived'],autopct='%1.0f%%')\n",
    "plt.title('Survival Rate to Pclass 2')\n",
    "plt.axis('equal')\n",
    "\n",
    "plt.subplot(1,3,3)\n",
    "plt.pie([pclass_3_df[pclass_3_df['Survived']==0]['Survived'].count(),pclass_3_df[pclass_3_df['Survived']==1]['Survived'].count()],\\\n",
    "        labels=['Not Survived','Survived'],autopct='%1.0f%%')\n",
    "plt.title('Survival Rate to Pclass 3')\n",
    "plt.axis('equal')\n",
    "#各舱级生还的人数分布\n",
    "titanic_df.groupby(['Pclass','Survived'])['Survived'].count().unstack().plot(kind='bar',stacked=True,color=['g','r'],grid=False)\n",
    "plt.title('Count to Pclass')\n",
    "plt.ylabel('Count')"
   ]
  },
  {
   "cell_type": "markdown",
   "metadata": {
    "collapsed": true
   },
   "source": [
    "一等舱的生还率为63%，二等舱为47%，三等舱为24%，表示舱级越高，生还率越高。"
   ]
  },
  {
   "cell_type": "markdown",
   "metadata": {},
   "source": [
    "### 2.Sex变量"
   ]
  },
  {
   "cell_type": "code",
   "execution_count": 64,
   "metadata": {
    "collapsed": false
   },
   "outputs": [
    {
     "data": {
      "text/plain": [
       "<matplotlib.text.Text at 0xd09cd70>"
      ]
     },
     "execution_count": 64,
     "metadata": {},
     "output_type": "execute_result"
    },
    {
     "data": {
      "image/png": "[encoded data removed]",
      "text/plain": [
       "<matplotlib.figure.Figure at 0xc93c4f0>"
      ]
     },
     "metadata": {},
     "output_type": "display_data"
    },
    {
     "data": {
      "image/png": "[encoded data removed]",
      "text/plain": [
       "<matplotlib.figure.Figure at 0xd091410>"
      ]
     },
     "metadata": {},
     "output_type": "display_data"
    }
   ],
   "source": [
    "#性别的生还率\n",
    "plt.figure(figsize=(8,3))\n",
    "plt.subplot(1,2,1)\n",
    "sex_male_df=titanic_df[titanic_df['Sex']=='male']\n",
    "sex_female_df=titanic_df[titanic_df['Sex']=='female']\n",
    "plt.pie([sex_male_df[sex_male_df['Survived']==0]['Survived'].count(),sex_male_df[sex_male_df['Survived']==1]['Survived'].count()],\\\n",
    "       labels=['Not Survived','Survived'],autopct='%1.0f%%')\n",
    "plt.title('Survival Rate to Male')\n",
    "plt.axis('equal')\n",
    "\n",
    "plt.subplot(1,2,2)\n",
    "plt.pie([sex_female_df[sex_female_df['Survived']==0]['Survived'].count(),sex_female_df[sex_female_df['Survived']==1]['Survived'].\\\n",
    "         count()],labels=['Not Survived','Survived'],autopct='%1.0f%%')\n",
    "plt.title('Survival Rate to Female')\n",
    "plt.axis('equal')\n",
    "#性别生还的人数分布\n",
    "titanic_df.groupby(['Sex','Survived'])['Survived'].count().unstack().plot(kind='bar',stacked=True,color=['g','r'],grid=False)\n",
    "plt.title('Count to Sex')\n",
    "plt.ylabel('Count')"
   ]
  },
  {
   "cell_type": "markdown",
   "metadata": {
    "collapsed": true
   },
   "source": [
    "男性生还率为19%,女性生还率为74%，可以看出女性生还率远远高于男性。"
   ]
  },
  {
   "cell_type": "markdown",
   "metadata": {},
   "source": [
    "### 3.Age变量"
   ]
  },
  {
   "cell_type": "code",
   "execution_count": 65,
   "metadata": {
    "collapsed": false
   },
   "outputs": [
    {
     "data": {
      "text/plain": [
       "<matplotlib.text.Text at 0xd197cd0>"
      ]
     },
     "execution_count": 65,
     "metadata": {},
     "output_type": "execute_result"
    },
    {
     "data": {
      "image/png": "[encoded data removed]",
      "text/plain": [
       "<matplotlib.figure.Figure at 0xc926a10>"
      ]
     },
     "metadata": {},
     "output_type": "display_data"
    }
   ],
   "source": [
    "#年龄分布情况\n",
    "plt.hist(titanic_df['Age'],bins=20) \n",
    "plt.title('Age Distribution')"
   ]
  },
  {
   "cell_type": "code",
   "execution_count": 66,
   "metadata": {
    "collapsed": false,
    "scrolled": true
   },
   "outputs": [
    {
     "data": {
      "text/plain": [
       "age_group\n",
       "(0, 10]     0.593750\n",
       "(10, 20]    0.382609\n",
       "(20, 30]    0.334152\n",
       "(30, 40]    0.445161\n",
       "(40, 50]    0.383721\n",
       "(50, 60]    0.404762\n",
       "(60, 70]    0.235294\n",
       "(70, 80]    0.200000\n",
       "Name: Survived, dtype: float64"
      ]
     },
     "execution_count": 66,
     "metadata": {},
     "output_type": "execute_result"
    }
   ],
   "source": [
    "#年龄分段\n",
    "bins=np.arange(0, 90, 10)\n",
    "titanic_df['age_group']=pd.cut(titanic_df['Age'],bins)\n",
    "titanic_df.groupby('age_group')['Survived'].mean()"
   ]
  },
  {
   "cell_type": "code",
   "execution_count": 67,
   "metadata": {
    "collapsed": false
   },
   "outputs": [
    {
     "data": {
      "text/plain": [
       "<matplotlib.text.Text at 0xce12a30>"
      ]
     },
     "execution_count": 67,
     "metadata": {},
     "output_type": "execute_result"
    },
    {
     "data": {
      "image/png": "[encoded data removed]",
      "text/plain": [
       "<matplotlib.figure.Figure at 0xced2430>"
      ]
     },
     "metadata": {},
     "output_type": "display_data"
    }
   ],
   "source": [
    "#各年龄段的生还率\n",
    "plt.figure(figsize=(10,5))\n",
    "plt.subplot(1,2,1)\n",
    "titanic_df.groupby('age_group')['Survived'].mean().plot(kind='bar',grid=False)\n",
    "plt.title('Survival Rate to Age' )\n",
    "plt.ylabel('Survival Rate')\n",
    "#各年龄段的人数分布\n",
    "plt.subplot(1,2,2)\n",
    "titanic_df.groupby('age_group')['Survived'].count().plot(kind='bar',grid=False)\n",
    "plt.title('Count Distribution to Age' )\n",
    "plt.ylabel('Count')"
   ]
  },
  {
   "cell_type": "markdown",
   "metadata": {},
   "source": [
    "可以发现0-20的少年生还率最高，其次为20-60的成人，最低为60岁以上的老人。"
   ]
  },
  {
   "cell_type": "markdown",
   "metadata": {},
   "source": [
    "### 4.SibSp变量"
   ]
  },
  {
   "cell_type": "code",
   "execution_count": 68,
   "metadata": {
    "collapsed": false
   },
   "outputs": [
    {
     "data": {
      "text/plain": [
       "<matplotlib.text.Text at 0xd22ca30>"
      ]
     },
     "execution_count": 68,
     "metadata": {},
     "output_type": "execute_result"
    },
    {
     "data": {
      "image/png": "[encoded data removed]",
      "text/plain": [
       "<matplotlib.figure.Figure at 0xca2bb70>"
      ]
     },
     "metadata": {},
     "output_type": "display_data"
    }
   ],
   "source": [
    "#SibSp的生还率\n",
    "plt.figure(figsize=(8,5))\n",
    "sibsp_df=titanic_df[titanic['SibSp']!=0]\n",
    "no_sibsp_df=titanic_df[titanic['SibSp']==0]\n",
    "plt.subplot(2,2,1)\n",
    "plt.pie([sibsp_df[sibsp_df['Survived']==0]['Survived'].count(),sibsp_df[sibsp_df['Survived']==1]['Survived'].count()],\\\n",
    "        labels=['Not Survived','Survived'],autopct='%1.0f%%')\n",
    "plt.title('Survival Rate to SibSp')\n",
    "plt.axis('equal')\n",
    "\n",
    "plt.subplot(2,2,2)\n",
    "plt.pie([no_sibsp_df[no_sibsp_df['Survived']==0]['Survived'].count(),no_sibsp_df[no_sibsp_df['Survived']==1]['Survived'].count()],\\\n",
    "        labels=['Not Survived','Survived'],autopct='%1.0f%%')\n",
    "plt.title('Survival Rate to No_SibSp')\n",
    "plt.axis('equal')\n",
    "#SibSp的生还人数分布\n",
    "plt.subplot(2,2,3)\n",
    "sns.countplot(x='Survived',data=sibsp_df)\n",
    "plt.title('Survival Counts to SibSp')\n",
    "\n",
    "plt.subplot(2,2,4)\n",
    "sns.countplot(x='Survived',data=no_sibsp_df)\n",
    "plt.title('Survival Counts to No_SibSp')"
   ]
  },
  {
   "cell_type": "markdown",
   "metadata": {},
   "source": [
    "带有兄弟姐妹或者伴侣的乘客的生还率为47%，没有兄弟姐妹或者伴侣的乘客的生还率为35%，相较之下带有兄弟姐妹或者伴侣的乘客生还率要高一些。"
   ]
  },
  {
   "cell_type": "markdown",
   "metadata": {},
   "source": [
    "### 5.Parch变量"
   ]
  },
  {
   "cell_type": "code",
   "execution_count": 69,
   "metadata": {
    "collapsed": false
   },
   "outputs": [
    {
     "data": {
      "text/plain": [
       "<matplotlib.text.Text at 0xd5f6530>"
      ]
     },
     "execution_count": 69,
     "metadata": {},
     "output_type": "execute_result"
    },
    {
     "data": {
      "image/png": "[encoded data removed]",
      "text/plain": [
       "<matplotlib.figure.Figure at 0xd2655f0>"
      ]
     },
     "metadata": {},
     "output_type": "display_data"
    }
   ],
   "source": [
    "#Parch的生还率\n",
    "plt.figure(figsize=(8,5))\n",
    "parch_df=titanic_df[titanic['Parch']!=0]\n",
    "no_parch_df=titanic_df[titanic['Parch']==0]\n",
    "plt.subplot(2,2,1)\n",
    "plt.pie([parch_df[parch_df['Survived']==0]['Survived'].count(),parch_df[parch_df['Survived']==1]['Survived'].count()],\\\n",
    "        labels=['Not Survived','Survived'],autopct='%1.0f%%')\n",
    "plt.title('Survival Rate to Parch')\n",
    "plt.axis('equal')\n",
    "\n",
    "plt.subplot(2,2,2)\n",
    "plt.pie([no_parch_df[no_parch_df['Survived']==0]['Survived'].count(),no_parch_df[no_parch_df['Survived']==1]['Survived'].count()],\\\n",
    "        labels=['Not Survived','Survived'],autopct='%1.0f%%')\n",
    "plt.title('Survival Rate to No_Parch')\n",
    "plt.axis('equal')\n",
    "#Parch的生还人数分布\n",
    "plt.subplot(2,2,3)\n",
    "sns.countplot(x='Survived',data=parch_df)\n",
    "plt.title('Survival Counts to Parch')\n",
    "\n",
    "plt.subplot(2,2,4)\n",
    "sns.countplot(x='Survived',data=no_parch_df)\n",
    "plt.title('Survival Counts to No_Parch')"
   ]
  },
  {
   "cell_type": "markdown",
   "metadata": {},
   "source": [
    "带有父母孩子的乘客的生还人数约为108，生还率为51%，没有父母孩子的乘客的生还人数约为240，生还率为34%，相较之下带有父母孩子的乘客生还率要高一些。"
   ]
  },
  {
   "cell_type": "markdown",
   "metadata": {},
   "source": [
    "### 6.SibSp和Parch变量即独自一人的乘客和非独自一人的乘客"
   ]
  },
  {
   "cell_type": "code",
   "execution_count": 70,
   "metadata": {
    "collapsed": false
   },
   "outputs": [
    {
     "data": {
      "text/plain": [
       "<matplotlib.text.Text at 0xd7f99d0>"
      ]
     },
     "execution_count": 70,
     "metadata": {},
     "output_type": "execute_result"
    },
    {
     "data": {
      "image/png": "[encoded data removed]",
      "text/plain": [
       "<matplotlib.figure.Figure at 0xa070a90>"
      ]
     },
     "metadata": {},
     "output_type": "display_data"
    }
   ],
   "source": [
    "alone_df=titanic_df[(titanic_df['SibSp']==0)&(titanic_df['Parch']==0)] #独自一人的子数据集\n",
    "not_alone_df=titanic_df[(titanic_df['SibSp']!=0)|(titanic_df['Parch']!=0)] #非独自一人的子数据集\n",
    "#独自一人的生还率可视化\n",
    "plt.figure(figsize=(8,5))\n",
    "plt.subplot(2,2,1) \n",
    "plt.pie([alone_df[alone_df['Survived']==0]['Survived'].count(),alone_df[alone_df['Survived']==1]['Survived'].count()],\\\n",
    "       labels=['Not Survived','Survived'],autopct='%1.0f%%')\n",
    "plt.title('Survival Rate to Alone')\n",
    "plt.axis('equal')\n",
    "#非独自一人的生还率可视化\n",
    "plt.subplot(2,2,2)\n",
    "plt.pie([not_alone_df[not_alone_df['Survived']==0]['Survived'].count(),not_alone_df[not_alone_df['Survived']==1]['Survived'].count()],\\\n",
    "       labels=['Not Survived','Survived'],autopct='%1.0f%%')\n",
    "plt.title('Survival Rate to Not_Alone')\n",
    "plt.axis('equal')\n",
    "#独自一人的人口分布可视化\n",
    "plt.subplot(2,2,3)\n",
    "sns.countplot(x='Survived',data=alone_df)\n",
    "plt.title('Survival Counts to Alone')\n",
    "#非独自一人的人口分布可视化\n",
    "plt.subplot(2,2,4)\n",
    "sns.countplot(x='Survived',data=not_alone_df)\n",
    "plt.title('Survival Counts to Not_Alone')"
   ]
  },
  {
   "cell_type": "markdown",
   "metadata": {},
   "source": [
    "独自一人的乘客生还人数为170左右，生还率为30%，非独自一人的乘客生还人数为180左右，生还率为51%，可以发现非独自一人的生还率较高。"
   ]
  },
  {
   "cell_type": "markdown",
   "metadata": {},
   "source": [
    "### 7.Fare变量"
   ]
  },
  {
   "cell_type": "code",
   "execution_count": 71,
   "metadata": {
    "collapsed": false,
    "scrolled": true
   },
   "outputs": [
    {
     "data": {
      "text/plain": [
       "<matplotlib.text.Text at 0xd933c50>"
      ]
     },
     "execution_count": 71,
     "metadata": {},
     "output_type": "execute_result"
    },
    {
     "data": {
      "image/png": "[encoded data removed]",
      "text/plain": [
       "<matplotlib.figure.Figure at 0xced20d0>"
      ]
     },
     "metadata": {},
     "output_type": "display_data"
    }
   ],
   "source": [
    "#票价的分布图\n",
    "plt.figure(figsize=(8,5))\n",
    "plt.subplot(2,2,1)\n",
    "plt.hist(titanic_df['Fare'],bins=20)\n",
    "plt.title('Fare Distribution')\n",
    "#生还与否的票价分布情况\n",
    "plt.subplot(2,2,2)\n",
    "sns.boxplot(x='Survived',y='Fare',data=titanic_df,showfliers=False)\n",
    "plt.title('Fare Distribution to Survived')"
   ]
  },
  {
   "cell_type": "markdown",
   "metadata": {},
   "source": [
    "可以看出生还的乘客的票价基本在13-60美元间，平均值约为26美元，但是未生还的乘客的票价基本在10-26美元，平均值约为11美元，总体来说生还者的票价要高于未生还者。"
   ]
  },
  {
   "cell_type": "markdown",
   "metadata": {},
   "source": [
    "### 8.Embarked变量"
   ]
  },
  {
   "cell_type": "code",
   "execution_count": 72,
   "metadata": {
    "collapsed": false
   },
   "outputs": [
    {
     "data": {
      "text/plain": [
       "(-1.1152445453600714,\n",
       " 1.1007259494577988,\n",
       " -1.1176819858270148,\n",
       " 1.1049298534646603)"
      ]
     },
     "execution_count": 72,
     "metadata": {},
     "output_type": "execute_result"
    },
    {
     "data": {
      "image/png": "[encoded data removed]",
      "text/plain": [
       "<matplotlib.figure.Figure at 0xd9cb570>"
      ]
     },
     "metadata": {},
     "output_type": "display_data"
    }
   ],
   "source": [
    "#各港口登船的人数生还分布情况\n",
    "plt.subplot(1,2,1)\n",
    "sns.countplot(x='Embarked',hue='Survived',data=titanic_df)\n",
    "plt.title('Survival Counts to Embarked')\n",
    "#各港口登船的人数占比情况\n",
    "plt.subplot(1,2,2)\n",
    "plt.pie(titanic_df.groupby('Embarked')['Embarked'].count(),labels=['C','Q','S'],autopct='%1.0f%%')\n",
    "plt.title('Embarked Distribution')\n",
    "plt.axis('equal')"
   ]
  },
  {
   "cell_type": "markdown",
   "metadata": {},
   "source": [
    "S港口上船的人数最多为总数的72%，其次为C，最低的为Q，S港口生还人数也最多达到约450，其次为C，最低为Q。"
   ]
  },
  {
   "cell_type": "markdown",
   "metadata": {},
   "source": [
    "# 总结"
   ]
  },
  {
   "cell_type": "markdown",
   "metadata": {},
   "source": [
    "本次主要从船舱级别、性别、年龄、是否带有兄弟姐妹或者配偶、是否带有父母孩子、票价、上船港口七个方面进行分析。在泰坦尼克号上 2224 名乘客和船员中抽取的891名乘客中，只有近340人生还，生还率为38%，下面进一步分析导致于此的原因："
   ]
  },
  {
   "cell_type": "markdown",
   "metadata": {},
   "source": [
    "1.船舱有三个级别，分别为1、2、3等级，其乘客数分别约为210，180，490人左右，其中一等舱的生还率为63%，二等舱为47%，三等舱为24%，由此可见船舱级别对生还率有一定的影响，舱级越高，生还率越高。这可能与其对应的‘VIP’服务有关，'VIP'乘客较普通乘客在同等情况下待遇更优先一下。"
   ]
  },
  {
   "cell_type": "markdown",
   "metadata": {},
   "source": [
    "2.男女乘客数分别约为580、311，但男性生还率只有19%,女性生还率为74%，可以看出女性生还率远远高于男性。表明在此次事故中男性发挥了“女士优先，保护女性”的作用。"
   ]
  },
  {
   "cell_type": "markdown",
   "metadata": {},
   "source": [
    "3.由于年龄的连续性，将年龄离散化，这个划分可以发现0-20岁的少年生还率最高，其次为20-60的成人，最后为60岁以上的老人。这表明在此次事故中人们对孩子的生命还是比较重视，老人可能因为身体素质及状态等原因不能更好的获取生还的机会。"
   ]
  },
  {
   "cell_type": "markdown",
   "metadata": {},
   "source": [
    "4.带有兄弟姐妹或者伴侣的乘客生还人数约为130，生还率为47%，没有兄弟姐妹或者伴侣的乘客生还人数约为210，生还率为35%，相较之下带有兄弟姐妹或者伴侣的乘客生还率要高一些。"
   ]
  },
  {
   "cell_type": "markdown",
   "metadata": {},
   "source": [
    "5.带有父母孩子的乘客生还人数约为108，生还率为51%，没有父母孩子的乘客的生还人数约为240，生还率为34%，相较之下带有父母孩子的乘客生还率要高一些。\n",
    "由4、5综合分析独自一人的乘客生还率为30%，非独自一人的乘客生还率为51%，可以发现非独自一人的生还率较高。可能原因是因为亲人的力量激发他们活下去的欲望以及亲人间的相互帮助与鼓励也起到了一定的关键作用。"
   ]
  },
  {
   "cell_type": "markdown",
   "metadata": {},
   "source": [
    "6.生还的乘客的票价基本在13-60美元间，平均值约为26美元，但是未生还的乘客的票价基本在10-26美元，平均值约为11美元，总体来说生还者的票价要高于未生还者。"
   ]
  },
  {
   "cell_type": "markdown",
   "metadata": {
    "collapsed": true
   },
   "source": [
    "7.乘客大多数是在S港口上船，S港口上船的生还人数也最多，其次为C，最低的为Q。"
   ]
  },
  {
   "cell_type": "markdown",
   "metadata": {},
   "source": [
    "# 分析限制"
   ]
  },
  {
   "cell_type": "markdown",
   "metadata": {},
   "source": [
    "在泰坦尼克号上有 2224 名乘客和船员但这次分析只分析了891名乘客的数据，是抽样数据，并且抽样方式不明确可能会对分析结果有一定的影响。"
   ]
  },
  {
   "cell_type": "markdown",
   "metadata": {},
   "source": [
    "# 参考资料"
   ]
  },
  {
   "cell_type": "markdown",
   "metadata": {
    "collapsed": true
   },
   "source": [
    "网站 http://matplotlib.org/api/pyplot_api.html#matplotlib.pyplot.hist  画图\n",
    "    http://seaborn.pydata.org/api.html   画图\n",
    "    http://pandas.pydata.org/pandas-docs/stable/dsintro.html  函数调用\n",
    "    https://docs.python.org/2/library/functions.html  函数调用\n",
    "微博 https://zhuanlan.zhihu.com/p/26888595\n",
    "https://zhuanlan.zhihu.com/p/26440212"
   ]
  }
 ],
 "metadata": {
  "kernelspec": {
   "display_name": "Python 2",
   "language": "python",
   "name": "python2"
  },
  "language_info": {
   "codemirror_mode": {
    "name": "ipython",
    "version": 2
   },
   "file_extension": ".py",
   "mimetype": "text/x-python",
   "name": "python",
   "nbconvert_exporter": "python",
   "pygments_lexer": "ipython2",
   "version": "2.7.13"
  }
 },
 "nbformat": 4,
 "nbformat_minor": 2
}
